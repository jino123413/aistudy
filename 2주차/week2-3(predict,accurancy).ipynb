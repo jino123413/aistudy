{
 "cells": [
  {
   "cell_type": "code",
   "execution_count": null,
   "metadata": {},
   "outputs": [],
   "source": [
    "import pandas as pd\n",
    "from sklearn.model_selection import train_test_split\n",
    "from sklearn.tree import DecisionTreeClassifier\n",
    "from sklearn.ensemble import RandomForestClassifier\n",
    "from sklearn.svm import SVC\n",
    "from sklearn.linear_model import LogisticRegression\n",
    "from sklearn.metrics import accuracy_score\n",
    "\n",
    "# 데이터 읽기\n",
    "file_path = \"C:/Users/wlsgh/Downloads/iris.csv\"  # 경로를 본인의 환경에 맞게 수정\n",
    "df = pd.read_csv(file_path)\n",
    "\n",
    "# 데이터 확인\n",
    "print(\"데이터프레임의 처음 5행:\")\n",
    "print(df.head())\n",
    "print(\"\\n열 이름:\")\n",
    "print(df.columns)\n",
    "\n",
    "# 결측치 확인\n",
    "print(\"\\n결측치 개수:\")\n",
    "print(df.isnull().sum())\n",
    "\n",
    "# 특성과 타겟 분리\n",
    "X = df[['SepalLength', 'SepalWidth', 'PetalLength', 'PetalWidth']]\n",
    "y = df['Name']\n",
    "\n",
    "# 데이터 분할\n",
    "X_train, X_test, y_train, y_test = train_test_split(X, y, test_size=0.2, random_state=42)\n",
    "\n",
    "# 의사결정나무\n",
    "dt_model = DecisionTreeClassifier(random_state=42)\n",
    "dt_model.fit(X_train, y_train)\n",
    "dt_pred = dt_model.predict(X_test)\n",
    "print(\"\\n의사결정나무 정확도:\", accuracy_score(y_test, dt_pred))\n",
    "\n",
    "# 랜덤 포레스트\n",
    "rf_model = RandomForestClassifier(random_state=42)\n",
    "rf_model.fit(X_train, y_train)\n",
    "rf_pred = rf_model.predict(X_test)\n",
    "print(\"랜덤 포레스트 정확도:\", accuracy_score(y_test, rf_pred))\n",
    "\n",
    "# SVM\n",
    "svm_model = SVC(random_state=42)\n",
    "svm_model.fit(X_train, y_train)\n",
    "svm_pred = svm_model.predict(X_test)\n",
    "print(\"SVM 정확도:\", accuracy_score(y_test, svm_pred))\n",
    "\n",
    "# 로지스틱 회귀\n",
    "lr_model = LogisticRegression(max_iter=200, random_state=42)\n",
    "lr_model.fit(X_train, y_train)\n",
    "lr_pred = lr_model.predict(X_test)\n",
    "print(\"로지스틱 회귀 정확도:\", accuracy_score(y_test, lr_pred))"
   ]
  },
  {
   "cell_type": "code",
   "execution_count": null,
   "metadata": {},
   "outputs": [],
   "source": [
    "# y_test와 예측값 10개 출력 (로지스틱 회귀 결과로 예시)\n",
    "print(\"\\n실제 값 (y_test)와 로지스틱 회귀 예측값 10개 비교:\")\n",
    "for actual, predicted in zip(y_test[:10], lr_pred[:10]):\n",
    "    print(f\"실제: {actual:20} 예측: {predicted}\")"
   ]
  },
  {
   "cell_type": "code",
   "execution_count": null,
   "metadata": {},
   "outputs": [],
   "source": [
    "print(y_test[:10],lr_pred[:10])"
   ]
  }
 ],
 "metadata": {
  "kernelspec": {
   "display_name": "Python 3",
   "language": "python",
   "name": "python3"
  },
  "language_info": {
   "name": "python",
   "version": "3.11.2"
  }
 },
 "nbformat": 4,
 "nbformat_minor": 2
}
