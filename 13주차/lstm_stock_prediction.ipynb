{
 "cells": [
  {
   "cell_type": "markdown",
   "metadata": {},
   "source": [
    "# Stock Price Prediction using LSTM (Long Short-Term Memory)\n",
    "\n",
    "이 노트북은 AAME.csv 데이터를 활용하여 LSTM으로 주가 예측 모델을 구현합니다."
   ]
  },
  {
   "cell_type": "code",
   "execution_count": 1,
   "metadata": {},
   "outputs": [],
   "source": [
    "# 필요한 라이브러리 임포트\n",
    "import numpy as np\n",
    "import pandas as pd\n",
    "import matplotlib.pyplot as plt\n",
    "from sklearn.preprocessing import MinMaxScaler\n",
    "from sklearn.metrics import mean_squared_error, mean_absolute_error\n",
    "import tensorflow as tf\n",
    "from tensorflow.keras.models import Sequential\n",
    "from tensorflow.keras.layers import Dense, LSTM, Dropout\n",
    "from tensorflow.keras.optimizers import Adam\n",
    "from tensorflow.keras.callbacks import EarlyStopping\n",
    "import math\n",
    "\n",
    "# 랜덤 시드 설정\n",
    "np.random.seed(42)\n",
    "tf.random.set_seed(42)"
   ]
  },
  {
   "cell_type": "markdown",
   "metadata": {},
   "source": [
    "## 1. 데이터 로드 및 전처리"
   ]
  },
  {
   "cell_type": "code",
   "execution_count": 2,
   "metadata": {},
   "outputs": [
    {
     "name": "stdout",
     "output_type": "stream",
     "text": [
      "데이터 형태: (10098, 7)\n"
     ]
    },
    {
     "data": {
      "text/html": [
       "<div>\n",
       "<style scoped>\n",
       "    .dataframe tbody tr th:only-of-type {\n",
       "        vertical-align: middle;\n",
       "    }\n",
       "\n",
       "    .dataframe tbody tr th {\n",
       "        vertical-align: top;\n",
       "    }\n",
       "\n",
       "    .dataframe thead th {\n",
       "        text-align: right;\n",
       "    }\n",
       "</style>\n",
       "<table border=\"1\" class=\"dataframe\">\n",
       "  <thead>\n",
       "    <tr style=\"text-align: right;\">\n",
       "      <th></th>\n",
       "      <th>Date</th>\n",
       "      <th>Open</th>\n",
       "      <th>High</th>\n",
       "      <th>Low</th>\n",
       "      <th>Close</th>\n",
       "      <th>Adj Close</th>\n",
       "      <th>Volume</th>\n",
       "    </tr>\n",
       "  </thead>\n",
       "  <tbody>\n",
       "    <tr>\n",
       "      <th>0</th>\n",
       "      <td>1980-03-17</td>\n",
       "      <td>0.0</td>\n",
       "      <td>4.05</td>\n",
       "      <td>3.85</td>\n",
       "      <td>3.85</td>\n",
       "      <td>3.213167</td>\n",
       "      <td>15000</td>\n",
       "    </tr>\n",
       "    <tr>\n",
       "      <th>1</th>\n",
       "      <td>1980-03-18</td>\n",
       "      <td>0.0</td>\n",
       "      <td>4.00</td>\n",
       "      <td>3.80</td>\n",
       "      <td>3.80</td>\n",
       "      <td>3.171437</td>\n",
       "      <td>10200</td>\n",
       "    </tr>\n",
       "    <tr>\n",
       "      <th>2</th>\n",
       "      <td>1980-03-19</td>\n",
       "      <td>0.0</td>\n",
       "      <td>4.05</td>\n",
       "      <td>3.85</td>\n",
       "      <td>3.85</td>\n",
       "      <td>3.213167</td>\n",
       "      <td>33500</td>\n",
       "    </tr>\n",
       "    <tr>\n",
       "      <th>3</th>\n",
       "      <td>1980-03-20</td>\n",
       "      <td>0.0</td>\n",
       "      <td>4.00</td>\n",
       "      <td>3.80</td>\n",
       "      <td>3.80</td>\n",
       "      <td>3.171437</td>\n",
       "      <td>8700</td>\n",
       "    </tr>\n",
       "    <tr>\n",
       "      <th>4</th>\n",
       "      <td>1980-03-21</td>\n",
       "      <td>0.0</td>\n",
       "      <td>3.95</td>\n",
       "      <td>3.75</td>\n",
       "      <td>3.75</td>\n",
       "      <td>3.129709</td>\n",
       "      <td>12700</td>\n",
       "    </tr>\n",
       "  </tbody>\n",
       "</table>\n",
       "</div>"
      ],
      "text/plain": [
       "         Date  Open  High   Low  Close  Adj Close  Volume\n",
       "0  1980-03-17   0.0  4.05  3.85   3.85   3.213167   15000\n",
       "1  1980-03-18   0.0  4.00  3.80   3.80   3.171437   10200\n",
       "2  1980-03-19   0.0  4.05  3.85   3.85   3.213167   33500\n",
       "3  1980-03-20   0.0  4.00  3.80   3.80   3.171437    8700\n",
       "4  1980-03-21   0.0  3.95  3.75   3.75   3.129709   12700"
      ]
     },
     "execution_count": 2,
     "metadata": {},
     "output_type": "execute_result"
    }
   ],
   "source": [
    "# GitHub에서 AAME.csv 데이터 가져오기\n",
    "url = 'https://raw.githubusercontent.com/MyungKyuYi/AI-class/main/AAME.csv'\n",
    "df = pd.read_csv(url)\n",
    "\n",
    "# 데이터 확인\n",
    "print(\"데이터 형태:\", df.shape)\n",
    "df.head()"
   ]
  },
  {
   "cell_type": "code",
   "execution_count": 3,
   "metadata": {},
   "outputs": [
    {
     "name": "stderr",
     "output_type": "stream",
     "text": [
      "C:\\Users\\wlsgh\\AppData\\Roaming\\Python\\Python311\\site-packages\\IPython\\core\\pylabtools.py:170: UserWarning: Glyph 44032 (\\N{HANGUL SYLLABLE GA}) missing from font(s) DejaVu Sans.\n",
      "  fig.canvas.print_figure(bytes_io, **kw)\n",
      "C:\\Users\\wlsgh\\AppData\\Roaming\\Python\\Python311\\site-packages\\IPython\\core\\pylabtools.py:170: UserWarning: Glyph 44201 (\\N{HANGUL SYLLABLE GYEOG}) missing from font(s) DejaVu Sans.\n",
      "  fig.canvas.print_figure(bytes_io, **kw)\n",
      "C:\\Users\\wlsgh\\AppData\\Roaming\\Python\\Python311\\site-packages\\IPython\\core\\pylabtools.py:170: UserWarning: Glyph 51452 (\\N{HANGUL SYLLABLE JU}) missing from font(s) DejaVu Sans.\n",
      "  fig.canvas.print_figure(bytes_io, **kw)\n",
      "C:\\Users\\wlsgh\\AppData\\Roaming\\Python\\Python311\\site-packages\\IPython\\core\\pylabtools.py:170: UserWarning: Glyph 45936 (\\N{HANGUL SYLLABLE DE}) missing from font(s) DejaVu Sans.\n",
      "  fig.canvas.print_figure(bytes_io, **kw)\n",
      "C:\\Users\\wlsgh\\AppData\\Roaming\\Python\\Python311\\site-packages\\IPython\\core\\pylabtools.py:170: UserWarning: Glyph 51060 (\\N{HANGUL SYLLABLE I}) missing from font(s) DejaVu Sans.\n",
      "  fig.canvas.print_figure(bytes_io, **kw)\n",
      "C:\\Users\\wlsgh\\AppData\\Roaming\\Python\\Python311\\site-packages\\IPython\\core\\pylabtools.py:170: UserWarning: Glyph 53552 (\\N{HANGUL SYLLABLE TEO}) missing from font(s) DejaVu Sans.\n",
      "  fig.canvas.print_figure(bytes_io, **kw)\n",
      "C:\\Users\\wlsgh\\AppData\\Roaming\\Python\\Python311\\site-packages\\IPython\\core\\pylabtools.py:170: UserWarning: Glyph 45216 (\\N{HANGUL SYLLABLE NAL}) missing from font(s) DejaVu Sans.\n",
      "  fig.canvas.print_figure(bytes_io, **kw)\n",
      "C:\\Users\\wlsgh\\AppData\\Roaming\\Python\\Python311\\site-packages\\IPython\\core\\pylabtools.py:170: UserWarning: Glyph 51676 (\\N{HANGUL SYLLABLE JJA}) missing from font(s) DejaVu Sans.\n",
      "  fig.canvas.print_figure(bytes_io, **kw)\n"
     ]
    },
    {
     "data": {
      "image/png": "[encoded data removed]",
      "text/plain": [
       "<Figure size 1200x600 with 1 Axes>"
      ]
     },
     "metadata": {},
     "output_type": "display_data"
    }
   ],
   "source": [
    "# 날짜 형식으로 변환\n",
    "df['Date'] = pd.to_datetime(df['Date'])\n",
    "df.set_index('Date', inplace=True)\n",
    "\n",
    "# 필요한 칼럼(Open, High, Low, Close)만 선택\n",
    "data = df[['Open', 'High', 'Low', 'Close']]\n",
    "\n",
    "# 데이터 시각화\n",
    "plt.figure(figsize=(12, 6))\n",
    "for column in data.columns:\n",
    "    plt.plot(data[column], label=column)\n",
    "plt.title('AAME 주가 데이터')\n",
    "plt.xlabel('날짜')\n",
    "plt.ylabel('가격')\n",
    "plt.legend()\n",
    "plt.grid(True)\n",
    "plt.show()"
   ]
  },
  {
   "cell_type": "code",
   "execution_count": 4,
   "metadata": {},
   "outputs": [
    {
     "name": "stdout",
     "output_type": "stream",
     "text": [
      "학습 데이터 크기: 8078, 테스트 데이터 크기: 2020\n"
     ]
    }
   ],
   "source": [
    "# 데이터 정규화\n",
    "scaler = MinMaxScaler(feature_range=(0, 1))\n",
    "scaled_data = scaler.fit_transform(data)\n",
    "\n",
    "# 학습 데이터와 테스트 데이터 분리 (80% 학습, 20% 테스트)\n",
    "train_size = int(len(scaled_data) * 0.8)\n",
    "test_size = len(scaled_data) - train_size\n",
    "train_data = scaled_data[0:train_size, :]\n",
    "test_data = scaled_data[train_size:len(scaled_data), :]\n",
    "\n",
    "print(f\"학습 데이터 크기: {train_size}, 테스트 데이터 크기: {test_size}\")"
   ]
  },
  {
   "cell_type": "markdown",
   "metadata": {},
   "source": [
    "## 2. 시계열 데이터 준비 함수"
   ]
  },
  {
   "cell_type": "code",
   "execution_count": 5,
   "metadata": {},
   "outputs": [],
   "source": [
    "def create_dataset(dataset, time_step=1):\n",
    "    \"\"\"\n",
    "    시계열 데이터를 입력과 출력 쌍으로 변환하는 함수\n",
    "    time_step: 예측에 사용할 이전 데이터 포인트의 수\n",
    "    \"\"\"\n",
    "    X, y = [], []\n",
    "    for i in range(len(dataset) - time_step):\n",
    "        # 입력: time_step 기간 동안의 모든 특성(Open, High, Low, Close)\n",
    "        a = dataset[i:(i + time_step), :]\n",
    "        X.append(a)\n",
    "        # 출력: 다음 날의 종가(Close)\n",
    "        y.append(dataset[i + time_step, 3])  # 3은 Close 열의 인덱스\n",
    "    return np.array(X), np.array(y)"
   ]
  },
  {
   "cell_type": "code",
   "execution_count": 6,
   "metadata": {},
   "outputs": [
    {
     "name": "stdout",
     "output_type": "stream",
     "text": [
      "X_train 형태: (8018, 60, 4), y_train 형태: (8018,)\n",
      "X_test 형태: (1960, 60, 4), y_test 형태: (1960,)\n"
     ]
    }
   ],
   "source": [
    "# 시계열 데이터 생성 (최근 60일 데이터로 다음 날 종가 예측)\n",
    "time_step = 60\n",
    "X_train, y_train = create_dataset(train_data, time_step)\n",
    "X_test, y_test = create_dataset(test_data, time_step)\n",
    "\n",
    "print(f\"X_train 형태: {X_train.shape}, y_train 형태: {y_train.shape}\")\n",
    "print(f\"X_test 형태: {X_test.shape}, y_test 형태: {y_test.shape}\")"
   ]
  },
  {
   "cell_type": "markdown",
   "metadata": {},
   "source": [
    "## 3. LSTM 모델 구축"
   ]
  },
  {
   "cell_type": "code",
   "execution_count": 7,
   "metadata": {},
   "outputs": [
    {
     "name": "stdout",
     "output_type": "stream",
     "text": [
      "Model: \"sequential\"\n",
      "_________________________________________________________________\n",
      " Layer (type)                Output Shape              Param #   \n",
      "=================================================================\n",
      " lstm (LSTM)                 (None, 60, 50)            11000     \n",
      "                                                                 \n",
      " dropout (Dropout)           (None, 60, 50)            0         \n",
      "                                                                 \n",
      " lstm_1 (LSTM)               (None, 60, 50)            20200     \n",
      "                                                                 \n",
      " dropout_1 (Dropout)         (None, 60, 50)            0         \n",
      "                                                                 \n",
      " lstm_2 (LSTM)               (None, 50)                20200     \n",
      "                                                                 \n",
      " dropout_2 (Dropout)         (None, 50)                0         \n",
      "                                                                 \n",
      " dense (Dense)               (None, 1)                 51        \n",
      "                                                                 \n",
      "=================================================================\n",
      "Total params: 51451 (200.98 KB)\n",
      "Trainable params: 51451 (200.98 KB)\n",
      "Non-trainable params: 0 (0.00 Byte)\n",
      "_________________________________________________________________\n"
     ]
    }
   ],
   "source": [
    "# LSTM 모델 생성\n",
    "model = Sequential()\n",
    "\n",
    "# LSTM 레이어 추가\n",
    "model.add(LSTM(units=50, return_sequences=True, input_shape=(time_step, 4)))\n",
    "model.add(Dropout(0.2))\n",
    "\n",
    "model.add(LSTM(units=50, return_sequences=True))\n",
    "model.add(Dropout(0.2))\n",
    "\n",
    "model.add(LSTM(units=50))\n",
    "model.add(Dropout(0.2))\n",
    "\n",
    "model.add(Dense(units=1))  # 출력층\n",
    "\n",
    "# 모델 컴파일\n",
    "model.compile(optimizer=Adam(learning_rate=0.001), loss='mean_squared_error')\n",
    "\n",
    "# 모델 요약\n",
    "model.summary()"
   ]
  },
  {
   "cell_type": "markdown",
   "metadata": {},
   "source": [
    "## 4. 모델 학습"
   ]
  },
  {
   "cell_type": "code",
   "execution_count": null,
   "metadata": {},
   "outputs": [
    {
     "name": "stdout",
     "output_type": "stream",
     "text": [
      "Epoch 1/100\n",
      "201/201 [==============================] - 86s 208ms/step - loss: 0.0022 - val_loss: 1.8768e-04\n",
      "Epoch 2/100\n",
      "201/201 [==============================] - 35s 173ms/step - loss: 0.0013 - val_loss: 2.4198e-04\n",
      "Epoch 3/100\n",
      "201/201 [==============================] - 35s 174ms/step - loss: 0.0011 - val_loss: 1.4008e-04\n",
      "Epoch 4/100\n",
      "201/201 [==============================] - 37s 185ms/step - loss: 8.8119e-04 - val_loss: 1.3752e-04\n",
      "Epoch 5/100\n",
      "201/201 [==============================] - 41s 203ms/step - loss: 8.6235e-04 - val_loss: 1.1240e-04\n",
      "Epoch 6/100\n",
      "201/201 [==============================] - 41s 205ms/step - loss: 7.7183e-04 - val_loss: 2.2422e-04\n",
      "Epoch 7/100\n",
      "201/201 [==============================] - 35s 173ms/step - loss: 7.4618e-04 - val_loss: 2.0062e-04\n",
      "Epoch 8/100\n",
      "201/201 [==============================] - 35s 174ms/step - loss: 8.0024e-04 - val_loss: 9.3715e-05\n",
      "Epoch 9/100\n",
      "201/201 [==============================] - 35s 173ms/step - loss: 6.4100e-04 - val_loss: 1.6702e-04\n",
      "Epoch 10/100\n",
      "201/201 [==============================] - 35s 174ms/step - loss: 6.3792e-04 - val_loss: 1.1948e-04\n",
      "Epoch 11/100\n",
      "201/201 [==============================] - 36s 180ms/step - loss: 5.4619e-04 - val_loss: 9.5152e-05\n",
      "Epoch 12/100\n",
      "201/201 [==============================] - 35s 176ms/step - loss: 5.6280e-04 - val_loss: 1.8149e-04\n",
      "Epoch 13/100\n",
      "201/201 [==============================] - 35s 175ms/step - loss: 5.6083e-04 - val_loss: 8.6629e-05\n",
      "Epoch 14/100\n",
      "201/201 [==============================] - 35s 176ms/step - loss: 6.1977e-04 - val_loss: 2.3328e-04\n",
      "Epoch 15/100\n",
      "201/201 [==============================] - 35s 173ms/step - loss: 5.5392e-04 - val_loss: 1.0993e-04\n",
      "Epoch 16/100\n",
      "201/201 [==============================] - 35s 172ms/step - loss: 5.1773e-04 - val_loss: 1.1660e-04\n",
      "Epoch 17/100\n",
      "201/201 [==============================] - 35s 172ms/step - loss: 5.0795e-04 - val_loss: 1.0081e-04\n",
      "Epoch 18/100\n",
      "201/201 [==============================] - 36s 177ms/step - loss: 5.1103e-04 - val_loss: 7.1253e-05\n",
      "Epoch 19/100\n",
      "201/201 [==============================] - 28s 140ms/step - loss: 4.5571e-04 - val_loss: 9.3537e-05\n",
      "Epoch 20/100\n",
      "201/201 [==============================] - 28s 138ms/step - loss: 4.8095e-04 - val_loss: 8.8425e-05\n",
      "Epoch 21/100\n",
      "201/201 [==============================] - 27s 132ms/step - loss: 4.8261e-04 - val_loss: 5.9848e-05\n",
      "Epoch 22/100\n",
      "201/201 [==============================] - ETA: 0s - loss: 4.9436e-04"
     ]
    }
   ],
   "source": [
    "# 조기 종료 설정\n",
    "early_stop = EarlyStopping(monitor='val_loss', patience=10, restore_best_weights=True)\n",
    "\n",
    "# 모델 학습\n",
    "history = model.fit(\n",
    "    X_train, y_train, \n",
    "    epochs=100, \n",
    "    batch_size=32, \n",
    "    validation_split=0.2,\n",
    "    callbacks=[early_stop],\n",
    "    verbose=1\n",
    ")"
   ]
  },
  {
   "cell_type": "code",
   "execution_count": null,
   "metadata": {},
   "outputs": [],
   "source": [
    "# 학습 곡선 시각화\n",
    "plt.figure(figsize=(12, 6))\n",
    "plt.plot(history.history['loss'], label='Train Loss')\n",
    "plt.plot(history.history['val_loss'], label='Validation Loss')\n",
    "plt.title('모델 학습 손실')\n",
    "plt.xlabel('Epochs')\n",
    "plt.ylabel('Loss')\n",
    "plt.legend()\n",
    "plt.grid(True)\n",
    "plt.show()"
   ]
  },
  {
   "cell_type": "markdown",
   "metadata": {},
   "source": [
    "## 5. 모델 평가 및 예측"
   ]
  },
  {
   "cell_type": "code",
   "execution_count": null,
   "metadata": {},
   "outputs": [],
   "source": [
    "# 테스트 데이터로 예측\n",
    "y_pred = model.predict(X_test)\n",
    "\n",
    "# 예측값 역정규화\n",
    "# 원래 스케일로 되돌리기 위해 원본 형태의 배열 생성\n",
    "pred_shape = np.zeros((len(y_pred), 4))\n",
    "test_shape = np.zeros((len(y_test), 4))\n",
    "\n",
    "# Close 값만 채움 (다른 값은 0으로 유지)\n",
    "pred_shape[:, 3] = y_pred.flatten()\n",
    "test_shape[:, 3] = y_test\n",
    "\n",
    "# 역정규화\n",
    "y_pred_actual = scaler.inverse_transform(pred_shape)[:, 3]\n",
    "y_test_actual = scaler.inverse_transform(test_shape)[:, 3]"
   ]
  },
  {
   "cell_type": "code",
   "execution_count": null,
   "metadata": {},
   "outputs": [],
   "source": [
    "# 성능 평가\n",
    "mse = mean_squared_error(y_test_actual, y_pred_actual)\n",
    "rmse = math.sqrt(mse)\n",
    "mae = mean_absolute_error(y_test_actual, y_pred_actual)\n",
    "mape = np.mean(np.abs((y_test_actual - y_pred_actual) / y_test_actual)) * 100\n",
    "\n",
    "print(f'평균 제곱 오차(MSE): {mse:.4f}')\n",
    "print(f'평균 제곱근 오차(RMSE): {rmse:.4f}')\n",
    "print(f'평균 절대 오차(MAE): {mae:.4f}')\n",
    "print(f'평균 절대 백분율 오차(MAPE): {mape:.4f}%')"
   ]
  },
  {
   "cell_type": "code",
   "execution_count": null,
   "metadata": {},
   "outputs": [],
   "source": [
    "# 결과 시각화\n",
    "train_dates = df.index[:train_size]\n",
    "test_dates = df.index[train_size + time_step:train_size + time_step + len(y_test_actual)]\n",
    "\n",
    "plt.figure(figsize=(12, 6))\n",
    "plt.plot(train_dates, df['Close'].values[:train_size], label='학습 데이터')\n",
    "plt.plot(test_dates, y_test_actual, label='실제 데이터')\n",
    "plt.plot(test_dates, y_pred_actual, label='예측 데이터')\n",
    "plt.title('LSTM 모델 주가 예측 결과')\n",
    "plt.xlabel('날짜')\n",
    "plt.ylabel('주가')\n",
    "plt.legend()\n",
    "plt.grid(True)\n",
    "plt.show()"
   ]
  },
  {
   "cell_type": "code",
   "execution_count": null,
   "metadata": {},
   "outputs": [],
   "source": [
    "# 예측 결과 더 자세히 보기 (테스트 세트의 마지막 30일)\n",
    "plt.figure(figsize=(12, 6))\n",
    "plt.plot(test_dates[-30:], y_test_actual[-30:], 'b-', label='실제 종가')\n",
    "plt.plot(test_dates[-30:], y_pred_actual[-30:], 'r--', label='예측 종가')\n",
    "plt.title('LSTM 모델 - 최근 30일 예측 성능')\n",
    "plt.xlabel('날짜')\n",
    "plt.ylabel('주가')\n",
    "plt.legend()\n",
    "plt.grid(True)\n",
    "plt.show()"
   ]
  },
  {
   "cell_type": "markdown",
   "metadata": {},
   "source": [
    "## 6. 미래 예측"
   ]
  },
  {
   "cell_type": "code",
   "execution_count": null,
   "metadata": {},
   "outputs": [],
   "source": [
    "# 마지막 time_step 기간의 데이터로 다음 날 종가 예측\n",
    "last_data = scaled_data[-time_step:]\n",
    "last_data_reshaped = np.reshape(last_data, (1, time_step, 4))\n",
    "\n",
    "# 다음 날 종가 예측\n",
    "next_day_pred = model.predict(last_data_reshaped)\n",
    "\n",
    "# 예측값 역정규화\n",
    "pred_shape = np.zeros((1, 4))\n",
    "pred_shape[0, 3] = next_day_pred[0, 0]\n",
    "next_day_pred_actual = scaler.inverse_transform(pred_shape)[0, 3]\n",
    "\n",
    "print(f\"다음 거래일 예상 종가: ${next_day_pred_actual:.2f}\")"
   ]
  },
  {
   "cell_type": "markdown",
   "metadata": {},
   "source": [
    "## 7. RNN과 LSTM 비교 분석"
   ]
  },
  {
   "cell_type": "markdown",
   "metadata": {},
   "source": [
    "LSTM(Long Short-Term Memory)은 기본 RNN(Recurrent Neural Network)의 개선된 버전으로, 장기 의존성 문제를 해결하기 위해 설계되었습니다.\n",
    "\n",
    "LSTM의 주요 장점:\n",
    "1. **장기 의존성 처리**: LSTM은 셀 상태와 게이트 메커니즘을 통해 장기 의존성을 더 잘 포착합니다.\n",
    "2. **그래디언트 소실/폭발 방지**: 게이트 구조를 통해 그래디언트가 효과적으로 흐를 수 있도록 하여 기울기 소실 문제를 완화합니다.\n",
    "3. **선택적 정보 저장**: 입력 게이트, 망각 게이트, 출력 게이트를 통해 중요한 정보만 선택적으로 저장하고 불필요한 정보는 잊을 수 있습니다.\n",
    "\n",
    "위의 실험에서 LSTM은 일반적으로 RNN보다 더 나은 예측 성능을 보여줄 것으로 예상됩니다. 특히 주가와 같이 장기적인 패턴과 복잡한 의존성이 있는 시계열 데이터에서는 LSTM의 이점이 더 크게 나타납니다."
   ]
  }
 ],
 "metadata": {
  "kernelspec": {
   "display_name": "Python 3",
   "language": "python",
   "name": "python3"
  },
  "language_info": {
   "codemirror_mode": {
    "name": "ipython",
    "version": 3
   },
   "file_extension": ".py",
   "mimetype": "text/x-python",
   "name": "python",
   "nbconvert_exporter": "python",
   "pygments_lexer": "ipython3",
   "version": "3.11.2"
  }
 },
 "nbformat": 4,
 "nbformat_minor": 4
}
