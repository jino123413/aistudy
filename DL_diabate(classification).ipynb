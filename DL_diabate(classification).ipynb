{
 "cells": [
  {
   "cell_type": "code",
   "execution_count": 23,
   "metadata": {},
   "outputs": [],
   "source": [
    "import numpy as np\n",
    "import pandas as pd\n",
    "import seaborn as sns\n",
    "from sklearn.model_selection import train_test_split\n",
    "import tensorflow as tf\n",
    "from tensorflow import keras"
   ]
  },
  {
   "cell_type": "code",
   "execution_count": 24,
   "metadata": {},
   "outputs": [
    {
     "data": {
      "text/html": [
       "<div>\n",
       "<style scoped>\n",
       "    .dataframe tbody tr th:only-of-type {\n",
       "        vertical-align: middle;\n",
       "    }\n",
       "\n",
       "    .dataframe tbody tr th {\n",
       "        vertical-align: top;\n",
       "    }\n",
       "\n",
       "    .dataframe thead th {\n",
       "        text-align: right;\n",
       "    }\n",
       "</style>\n",
       "<table border=\"1\" class=\"dataframe\">\n",
       "  <thead>\n",
       "    <tr style=\"text-align: right;\">\n",
       "      <th></th>\n",
       "      <th>Pregnancies</th>\n",
       "      <th>Glucose</th>\n",
       "      <th>BloodPressure</th>\n",
       "      <th>SkinThickness</th>\n",
       "      <th>Insulin</th>\n",
       "      <th>BMI</th>\n",
       "      <th>DiabetesPedigreeFunction</th>\n",
       "      <th>Age</th>\n",
       "      <th>Outcome</th>\n",
       "    </tr>\n",
       "  </thead>\n",
       "  <tbody>\n",
       "    <tr>\n",
       "      <th>0</th>\n",
       "      <td>6</td>\n",
       "      <td>148</td>\n",
       "      <td>72</td>\n",
       "      <td>35</td>\n",
       "      <td>0</td>\n",
       "      <td>33.6</td>\n",
       "      <td>0.627</td>\n",
       "      <td>50</td>\n",
       "      <td>1</td>\n",
       "    </tr>\n",
       "    <tr>\n",
       "      <th>1</th>\n",
       "      <td>1</td>\n",
       "      <td>85</td>\n",
       "      <td>66</td>\n",
       "      <td>29</td>\n",
       "      <td>0</td>\n",
       "      <td>26.6</td>\n",
       "      <td>0.351</td>\n",
       "      <td>31</td>\n",
       "      <td>0</td>\n",
       "    </tr>\n",
       "    <tr>\n",
       "      <th>2</th>\n",
       "      <td>8</td>\n",
       "      <td>183</td>\n",
       "      <td>64</td>\n",
       "      <td>0</td>\n",
       "      <td>0</td>\n",
       "      <td>23.3</td>\n",
       "      <td>0.672</td>\n",
       "      <td>32</td>\n",
       "      <td>1</td>\n",
       "    </tr>\n",
       "    <tr>\n",
       "      <th>3</th>\n",
       "      <td>1</td>\n",
       "      <td>89</td>\n",
       "      <td>66</td>\n",
       "      <td>23</td>\n",
       "      <td>94</td>\n",
       "      <td>28.1</td>\n",
       "      <td>0.167</td>\n",
       "      <td>21</td>\n",
       "      <td>0</td>\n",
       "    </tr>\n",
       "    <tr>\n",
       "      <th>4</th>\n",
       "      <td>0</td>\n",
       "      <td>137</td>\n",
       "      <td>40</td>\n",
       "      <td>35</td>\n",
       "      <td>168</td>\n",
       "      <td>43.1</td>\n",
       "      <td>2.288</td>\n",
       "      <td>33</td>\n",
       "      <td>1</td>\n",
       "    </tr>\n",
       "    <tr>\n",
       "      <th>...</th>\n",
       "      <td>...</td>\n",
       "      <td>...</td>\n",
       "      <td>...</td>\n",
       "      <td>...</td>\n",
       "      <td>...</td>\n",
       "      <td>...</td>\n",
       "      <td>...</td>\n",
       "      <td>...</td>\n",
       "      <td>...</td>\n",
       "    </tr>\n",
       "    <tr>\n",
       "      <th>763</th>\n",
       "      <td>10</td>\n",
       "      <td>101</td>\n",
       "      <td>76</td>\n",
       "      <td>48</td>\n",
       "      <td>180</td>\n",
       "      <td>32.9</td>\n",
       "      <td>0.171</td>\n",
       "      <td>63</td>\n",
       "      <td>0</td>\n",
       "    </tr>\n",
       "    <tr>\n",
       "      <th>764</th>\n",
       "      <td>2</td>\n",
       "      <td>122</td>\n",
       "      <td>70</td>\n",
       "      <td>27</td>\n",
       "      <td>0</td>\n",
       "      <td>36.8</td>\n",
       "      <td>0.340</td>\n",
       "      <td>27</td>\n",
       "      <td>0</td>\n",
       "    </tr>\n",
       "    <tr>\n",
       "      <th>765</th>\n",
       "      <td>5</td>\n",
       "      <td>121</td>\n",
       "      <td>72</td>\n",
       "      <td>23</td>\n",
       "      <td>112</td>\n",
       "      <td>26.2</td>\n",
       "      <td>0.245</td>\n",
       "      <td>30</td>\n",
       "      <td>0</td>\n",
       "    </tr>\n",
       "    <tr>\n",
       "      <th>766</th>\n",
       "      <td>1</td>\n",
       "      <td>126</td>\n",
       "      <td>60</td>\n",
       "      <td>0</td>\n",
       "      <td>0</td>\n",
       "      <td>30.1</td>\n",
       "      <td>0.349</td>\n",
       "      <td>47</td>\n",
       "      <td>1</td>\n",
       "    </tr>\n",
       "    <tr>\n",
       "      <th>767</th>\n",
       "      <td>1</td>\n",
       "      <td>93</td>\n",
       "      <td>70</td>\n",
       "      <td>31</td>\n",
       "      <td>0</td>\n",
       "      <td>30.4</td>\n",
       "      <td>0.315</td>\n",
       "      <td>23</td>\n",
       "      <td>0</td>\n",
       "    </tr>\n",
       "  </tbody>\n",
       "</table>\n",
       "<p>768 rows × 9 columns</p>\n",
       "</div>"
      ],
      "text/plain": [
       "     Pregnancies  Glucose  BloodPressure  SkinThickness  Insulin   BMI  \\\n",
       "0              6      148             72             35        0  33.6   \n",
       "1              1       85             66             29        0  26.6   \n",
       "2              8      183             64              0        0  23.3   \n",
       "3              1       89             66             23       94  28.1   \n",
       "4              0      137             40             35      168  43.1   \n",
       "..           ...      ...            ...            ...      ...   ...   \n",
       "763           10      101             76             48      180  32.9   \n",
       "764            2      122             70             27        0  36.8   \n",
       "765            5      121             72             23      112  26.2   \n",
       "766            1      126             60              0        0  30.1   \n",
       "767            1       93             70             31        0  30.4   \n",
       "\n",
       "     DiabetesPedigreeFunction  Age  Outcome  \n",
       "0                       0.627   50        1  \n",
       "1                       0.351   31        0  \n",
       "2                       0.672   32        1  \n",
       "3                       0.167   21        0  \n",
       "4                       2.288   33        1  \n",
       "..                        ...  ...      ...  \n",
       "763                     0.171   63        0  \n",
       "764                     0.340   27        0  \n",
       "765                     0.245   30        0  \n",
       "766                     0.349   47        1  \n",
       "767                     0.315   23        0  \n",
       "\n",
       "[768 rows x 9 columns]"
      ]
     },
     "execution_count": 24,
     "metadata": {},
     "output_type": "execute_result"
    }
   ],
   "source": [
    "# GitHub에서 데이터 로드\n",
    "url = \"https://raw.githubusercontent.com/MyungKyuYi/AI-class/main/diabetes.csv\"\n",
    "df = pd.read_csv(url)\n",
    "df"
   ]
  },
  {
   "cell_type": "code",
   "execution_count": 25,
   "metadata": {},
   "outputs": [
    {
     "data": {
      "text/plain": [
       "Pregnancies                 0\n",
       "Glucose                     0\n",
       "BloodPressure               0\n",
       "SkinThickness               0\n",
       "Insulin                     0\n",
       "BMI                         0\n",
       "DiabetesPedigreeFunction    0\n",
       "Age                         0\n",
       "Outcome                     0\n",
       "dtype: int64"
      ]
     },
     "execution_count": 25,
     "metadata": {},
     "output_type": "execute_result"
    }
   ],
   "source": [
    "df.isnull().sum()"
   ]
  },
  {
   "cell_type": "code",
   "execution_count": 26,
   "metadata": {},
   "outputs": [],
   "source": [
    "# 데이터와 타겟 분리\n",
    "X = df.drop('Outcome', axis=1).values\n",
    "y = df['Outcome'].values"
   ]
  },
  {
   "cell_type": "code",
   "execution_count": 27,
   "metadata": {},
   "outputs": [],
   "source": [
    "\n",
    "Y = pd.get_dummies(y).values"
   ]
  },
  {
   "cell_type": "code",
   "execution_count": null,
   "metadata": {},
   "outputs": [],
   "source": []
  },
  {
   "cell_type": "code",
   "execution_count": 28,
   "metadata": {},
   "outputs": [],
   "source": [
    "from sklearn.model_selection import train_test_split\n",
    "X_train,X_test, y_train,y_test = train_test_split(X,Y,test_size=0.2,random_state=0) "
   ]
  },
  {
   "cell_type": "code",
   "execution_count": 29,
   "metadata": {},
   "outputs": [
    {
     "data": {
      "text/plain": [
       "((614, 8), (154, 8), (614, 2), (154, 2))"
      ]
     },
     "execution_count": 29,
     "metadata": {},
     "output_type": "execute_result"
    }
   ],
   "source": [
    "X_train.shape, X_test.shape, y_train.shape, y_test.shape"
   ]
  },
  {
   "cell_type": "code",
   "execution_count": 30,
   "metadata": {},
   "outputs": [
    {
     "name": "stdout",
     "output_type": "stream",
     "text": [
      "Model: \"sequential_1\"\n",
      "_________________________________________________________________\n",
      " Layer (type)                Output Shape              Param #   \n",
      "=================================================================\n",
      " dense_4 (Dense)             (None, 10)                90        \n",
      "                                                                 \n",
      " dense_5 (Dense)             (None, 20)                220       \n",
      "                                                                 \n",
      " dense_6 (Dense)             (None, 20)                420       \n",
      "                                                                 \n",
      " dense_7 (Dense)             (None, 2)                 42        \n",
      "                                                                 \n",
      "=================================================================\n",
      "Total params: 772 (3.02 KB)\n",
      "Trainable params: 772 (3.02 KB)\n",
      "Non-trainable params: 0 (0.00 Byte)\n",
      "_________________________________________________________________\n"
     ]
    }
   ],
   "source": [
    "#Defining the model \n",
    "\n",
    "from keras.models import Sequential\n",
    "from keras.layers import Dense\n",
    "from keras.optimizers import SGD,Adam\n",
    "\n",
    "\n",
    "model = Sequential()\n",
    "model.add(Dense(10, input_shape=(8,), activation='relu'))\n",
    "model.add(Dense(20, activation='relu'))\n",
    "model.add(Dense(20, activation='relu'))\n",
    "model.add(Dense(2, activation='sigmoid'))  \n",
    "model.compile(optimizer=Adam(learning_rate=0.04), loss='binary_crossentropy', metrics=['accuracy'])\n",
    "\n",
    "model.summary()"
   ]
  },
  {
   "cell_type": "code",
   "execution_count": 31,
   "metadata": {},
   "outputs": [
    {
     "name": "stdout",
     "output_type": "stream",
     "text": [
      "Epoch 1/30\n",
      "18/18 [==============================] - 3s 46ms/step - loss: 2.7447 - accuracy: 0.5127 - val_loss: 0.6630 - val_accuracy: 0.6935\n",
      "Epoch 2/30\n",
      "18/18 [==============================] - 0s 12ms/step - loss: 0.6677 - accuracy: 0.6341 - val_loss: 0.6387 - val_accuracy: 0.6935\n",
      "Epoch 3/30\n",
      "18/18 [==============================] - 0s 10ms/step - loss: 0.6375 - accuracy: 0.6341 - val_loss: 0.6421 - val_accuracy: 0.6935\n",
      "Epoch 4/30\n",
      "18/18 [==============================] - 0s 11ms/step - loss: 0.6355 - accuracy: 0.6341 - val_loss: 0.6365 - val_accuracy: 0.6935\n",
      "Epoch 5/30\n",
      "18/18 [==============================] - 0s 11ms/step - loss: 0.6493 - accuracy: 0.6594 - val_loss: 0.6103 - val_accuracy: 0.6935\n",
      "Epoch 6/30\n",
      "18/18 [==============================] - 0s 9ms/step - loss: 0.6523 - accuracy: 0.6341 - val_loss: 0.6116 - val_accuracy: 0.6935\n",
      "Epoch 7/30\n",
      "18/18 [==============================] - 0s 11ms/step - loss: 0.6571 - accuracy: 0.6341 - val_loss: 0.6261 - val_accuracy: 0.6935\n",
      "Epoch 8/30\n",
      "18/18 [==============================] - 0s 10ms/step - loss: 0.6575 - accuracy: 0.6341 - val_loss: 0.6232 - val_accuracy: 0.6935\n",
      "Epoch 9/30\n",
      "18/18 [==============================] - 0s 9ms/step - loss: 0.6572 - accuracy: 0.6341 - val_loss: 0.6234 - val_accuracy: 0.6935\n",
      "Epoch 10/30\n",
      "18/18 [==============================] - 0s 9ms/step - loss: 0.6573 - accuracy: 0.6341 - val_loss: 0.6240 - val_accuracy: 0.6935\n",
      "Epoch 11/30\n",
      "18/18 [==============================] - 0s 9ms/step - loss: 0.6568 - accuracy: 0.6341 - val_loss: 0.6278 - val_accuracy: 0.6935\n",
      "Epoch 12/30\n",
      "18/18 [==============================] - 0s 9ms/step - loss: 0.6576 - accuracy: 0.6341 - val_loss: 0.6264 - val_accuracy: 0.6935\n",
      "Epoch 13/30\n",
      "18/18 [==============================] - 0s 9ms/step - loss: 0.6589 - accuracy: 0.6341 - val_loss: 0.6212 - val_accuracy: 0.6935\n",
      "Epoch 14/30\n",
      "18/18 [==============================] - 0s 9ms/step - loss: 0.6570 - accuracy: 0.6341 - val_loss: 0.6234 - val_accuracy: 0.6935\n",
      "Epoch 15/30\n",
      "18/18 [==============================] - 0s 9ms/step - loss: 0.6570 - accuracy: 0.6341 - val_loss: 0.6258 - val_accuracy: 0.6935\n",
      "Epoch 16/30\n",
      "18/18 [==============================] - 0s 9ms/step - loss: 0.6573 - accuracy: 0.6341 - val_loss: 0.6277 - val_accuracy: 0.6935\n",
      "Epoch 17/30\n",
      "18/18 [==============================] - 0s 10ms/step - loss: 0.6598 - accuracy: 0.6341 - val_loss: 0.6213 - val_accuracy: 0.6935\n",
      "Epoch 18/30\n",
      "18/18 [==============================] - 0s 9ms/step - loss: 0.6604 - accuracy: 0.6341 - val_loss: 0.6323 - val_accuracy: 0.6935\n",
      "Epoch 19/30\n",
      "18/18 [==============================] - 0s 9ms/step - loss: 0.6580 - accuracy: 0.6341 - val_loss: 0.6262 - val_accuracy: 0.6935\n",
      "Epoch 20/30\n",
      "18/18 [==============================] - 0s 9ms/step - loss: 0.6575 - accuracy: 0.6341 - val_loss: 0.6218 - val_accuracy: 0.6935\n",
      "Epoch 21/30\n",
      "18/18 [==============================] - 0s 9ms/step - loss: 0.6573 - accuracy: 0.6341 - val_loss: 0.6257 - val_accuracy: 0.6935\n",
      "Epoch 22/30\n",
      "18/18 [==============================] - 0s 9ms/step - loss: 0.6572 - accuracy: 0.6341 - val_loss: 0.6273 - val_accuracy: 0.6935\n",
      "Epoch 23/30\n",
      "18/18 [==============================] - 0s 9ms/step - loss: 0.6572 - accuracy: 0.6341 - val_loss: 0.6251 - val_accuracy: 0.6935\n",
      "Epoch 24/30\n",
      "18/18 [==============================] - 0s 9ms/step - loss: 0.6579 - accuracy: 0.6341 - val_loss: 0.6218 - val_accuracy: 0.6935\n",
      "Epoch 25/30\n",
      "18/18 [==============================] - 0s 9ms/step - loss: 0.6581 - accuracy: 0.6341 - val_loss: 0.6272 - val_accuracy: 0.6935\n",
      "Epoch 26/30\n",
      "18/18 [==============================] - 0s 9ms/step - loss: 0.6572 - accuracy: 0.6341 - val_loss: 0.6228 - val_accuracy: 0.6935\n",
      "Epoch 27/30\n",
      "18/18 [==============================] - 0s 9ms/step - loss: 0.6576 - accuracy: 0.6341 - val_loss: 0.6221 - val_accuracy: 0.6935\n",
      "Epoch 28/30\n",
      "18/18 [==============================] - 0s 9ms/step - loss: 0.6569 - accuracy: 0.6341 - val_loss: 0.6250 - val_accuracy: 0.6935\n",
      "Epoch 29/30\n",
      "18/18 [==============================] - 0s 9ms/step - loss: 0.6587 - accuracy: 0.6341 - val_loss: 0.6275 - val_accuracy: 0.6935\n",
      "Epoch 30/30\n",
      "18/18 [==============================] - 0s 9ms/step - loss: 0.6571 - accuracy: 0.6341 - val_loss: 0.6234 - val_accuracy: 0.6935\n",
      "5/5 [==============================] - 0s 4ms/step\n"
     ]
    }
   ],
   "source": [
    "\n",
    "model_history=model.fit(x=X_train, y=y_train, epochs=30, batch_size=32,validation_split=0.1)\n",
    "y_pred = model.predict(X_test)\n",
    "\n",
    "y_test_class = np.argmax(y_test,axis=1)\n",
    "y_pred_class = np.argmax(y_pred,axis=1)"
   ]
  },
  {
   "cell_type": "code",
   "execution_count": 32,
   "metadata": {},
   "outputs": [
    {
     "data": {
      "image/png": "[encoded data removed]",
      "text/plain": [
       "<Figure size 640x480 with 1 Axes>"
      ]
     },
     "metadata": {},
     "output_type": "display_data"
    }
   ],
   "source": [
    "import matplotlib.pyplot as plt\n",
    "import seaborn as sns\n",
    "\n",
    "loss =model_history.history['loss']\n",
    "val_loss =model_history.history['val_loss']\n",
    "epochs = range(1, len(loss) + 1)\n",
    "plt.plot(epochs, loss, 'y', label='Training loss')\n",
    "plt.plot(epochs, val_loss, 'r', label='Validation loss')\n",
    "plt.title('Training and validation loss')\n",
    "plt.xlabel('Epochs')\n",
    "plt.ylabel('Loss')\n",
    "plt.legend()\n",
    "plt.show()"
   ]
  },
  {
   "cell_type": "code",
   "execution_count": 33,
   "metadata": {},
   "outputs": [
    {
     "data": {
      "image/png": "[encoded data removed]",
      "text/plain": [
       "<Figure size 640x480 with 1 Axes>"
      ]
     },
     "metadata": {},
     "output_type": "display_data"
    }
   ],
   "source": [
    "\n",
    "acc =model_history.history['accuracy']\n",
    "val_acc =model_history.history['val_accuracy']\n",
    "plt.plot(epochs, acc, 'y', label='Training acc')\n",
    "plt.plot(epochs, val_acc, 'r', label='Validation acc')\n",
    "plt.title('Training and validation accuracy')\n",
    "plt.xlabel('Epochs')\n",
    "plt.ylabel('Accuracy')\n",
    "plt.legend()\n",
    "plt.show()"
   ]
  },
  {
   "cell_type": "code",
   "execution_count": 34,
   "metadata": {},
   "outputs": [
    {
     "name": "stdout",
     "output_type": "stream",
     "text": [
      "              precision    recall  f1-score   support\n",
      "\n",
      "           0       0.69      1.00      0.82       107\n",
      "           1       0.00      0.00      0.00        47\n",
      "\n",
      "    accuracy                           0.69       154\n",
      "   macro avg       0.35      0.50      0.41       154\n",
      "weighted avg       0.48      0.69      0.57       154\n",
      "\n",
      "[[107   0]\n",
      " [ 47   0]]\n"
     ]
    },
    {
     "name": "stderr",
     "output_type": "stream",
     "text": [
      "c:\\Users\\wlsgh\\AppData\\Local\\Programs\\Python\\Python311\\Lib\\site-packages\\sklearn\\metrics\\_classification.py:1471: UndefinedMetricWarning: Precision and F-score are ill-defined and being set to 0.0 in labels with no predicted samples. Use `zero_division` parameter to control this behavior.\n",
      "  _warn_prf(average, modifier, msg_start, len(result))\n",
      "c:\\Users\\wlsgh\\AppData\\Local\\Programs\\Python\\Python311\\Lib\\site-packages\\sklearn\\metrics\\_classification.py:1471: UndefinedMetricWarning: Precision and F-score are ill-defined and being set to 0.0 in labels with no predicted samples. Use `zero_division` parameter to control this behavior.\n",
      "  _warn_prf(average, modifier, msg_start, len(result))\n",
      "c:\\Users\\wlsgh\\AppData\\Local\\Programs\\Python\\Python311\\Lib\\site-packages\\sklearn\\metrics\\_classification.py:1471: UndefinedMetricWarning: Precision and F-score are ill-defined and being set to 0.0 in labels with no predicted samples. Use `zero_division` parameter to control this behavior.\n",
      "  _warn_prf(average, modifier, msg_start, len(result))\n"
     ]
    }
   ],
   "source": [
    "#Accuracy of the predicted values\n",
    "from sklearn.metrics import classification_report,confusion_matrix\n",
    "print(classification_report(y_test_class,y_pred_class))\n",
    "print(confusion_matrix(y_test_class,y_pred_class))"
   ]
  },
  {
   "cell_type": "code",
   "execution_count": null,
   "metadata": {},
   "outputs": [],
   "source": []
  },
  {
   "cell_type": "code",
   "execution_count": null,
   "metadata": {},
   "outputs": [],
   "source": []
  }
 ],
 "metadata": {
  "kernelspec": {
   "display_name": "Python 3",
   "language": "python",
   "name": "python3"
  },
  "language_info": {
   "codemirror_mode": {
    "name": "ipython",
    "version": 3
   },
   "file_extension": ".py",
   "mimetype": "text/x-python",
   "name": "python",
   "nbconvert_exporter": "python",
   "pygments_lexer": "ipython3",
   "version": "3.11.2"
  }
 },
 "nbformat": 4,
 "nbformat_minor": 2
}
